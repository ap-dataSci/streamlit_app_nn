{
 "cells": [
  {
   "cell_type": "code",
   "execution_count": 1,
   "metadata": {},
   "outputs": [
    {
     "name": "stderr",
     "output_type": "stream",
     "text": [
      "2023-07-14 11:39:25.194435: I tensorflow/core/platform/cpu_feature_guard.cc:182] This TensorFlow binary is optimized to use available CPU instructions in performance-critical operations.\n",
      "To enable the following instructions: AVX2 FMA, in other operations, rebuild TensorFlow with the appropriate compiler flags.\n"
     ]
    }
   ],
   "source": [
    "from sklearn import datasets\n",
    "from sklearn.preprocessing import StandardScaler\n",
    "from sklearn.preprocessing import LabelEncoder\n",
    "from tensorflow.keras.models import Sequential\n",
    "from tensorflow.keras.layers import Dense\n",
    "from tensorflow.keras.utils import to_categorical\n",
    "import numpy as np"
   ]
  },
  {
   "attachments": {},
   "cell_type": "markdown",
   "metadata": {},
   "source": [
    "## Load the iris dataset"
   ]
  },
  {
   "cell_type": "code",
   "execution_count": 2,
   "metadata": {},
   "outputs": [],
   "source": [
    "iris = datasets.load_iris()\n",
    "X = iris.data\n",
    "y = iris.target"
   ]
  },
  {
   "attachments": {},
   "cell_type": "markdown",
   "metadata": {},
   "source": [
    "## Normalization"
   ]
  },
  {
   "cell_type": "code",
   "execution_count": 4,
   "metadata": {},
   "outputs": [],
   "source": [
    "scaler = StandardScaler()\n",
    "X_scaled = scaler.fit_transform(X)"
   ]
  },
  {
   "attachments": {},
   "cell_type": "markdown",
   "metadata": {},
   "source": [
    "## Encoding categorical data"
   ]
  },
  {
   "cell_type": "code",
   "execution_count": 5,
   "metadata": {},
   "outputs": [],
   "source": [
    "encoder = LabelEncoder()\n",
    "y = encoder.fit_transform(y)\n",
    "y = to_categorical(y)"
   ]
  },
  {
   "attachments": {},
   "cell_type": "markdown",
   "metadata": {},
   "source": [
    "## Create a neural network"
   ]
  },
  {
   "cell_type": "code",
   "execution_count": 6,
   "metadata": {},
   "outputs": [],
   "source": [
    "model = Sequential()\n",
    "model.add(Dense(8, input_dim=4, activation='relu'))\n",
    "model.add(Dense(3, activation='softmax'))"
   ]
  },
  {
   "attachments": {},
   "cell_type": "markdown",
   "metadata": {},
   "source": [
    "## Compile and fit the model"
   ]
  },
  {
   "cell_type": "code",
   "execution_count": 7,
   "metadata": {},
   "outputs": [
    {
     "name": "stdout",
     "output_type": "stream",
     "text": [
      "Epoch 1/50\n",
      "15/15 [==============================] - 0s 829us/step - loss: 0.9777 - accuracy: 0.4667\n",
      "Epoch 2/50\n",
      "15/15 [==============================] - 0s 645us/step - loss: 0.9257 - accuracy: 0.5667\n",
      "Epoch 3/50\n",
      "15/15 [==============================] - 0s 810us/step - loss: 0.8791 - accuracy: 0.6733\n",
      "Epoch 4/50\n",
      "15/15 [==============================] - 0s 757us/step - loss: 0.8423 - accuracy: 0.7200\n",
      "Epoch 5/50\n",
      "15/15 [==============================] - 0s 653us/step - loss: 0.8028 - accuracy: 0.7467\n",
      "Epoch 6/50\n",
      "15/15 [==============================] - 0s 707us/step - loss: 0.7726 - accuracy: 0.7600\n",
      "Epoch 7/50\n",
      "15/15 [==============================] - 0s 615us/step - loss: 0.7391 - accuracy: 0.7933\n",
      "Epoch 8/50\n",
      "15/15 [==============================] - 0s 601us/step - loss: 0.7092 - accuracy: 0.7933\n",
      "Epoch 9/50\n",
      "15/15 [==============================] - 0s 648us/step - loss: 0.6823 - accuracy: 0.8067\n",
      "Epoch 10/50\n",
      "15/15 [==============================] - 0s 639us/step - loss: 0.6567 - accuracy: 0.8067\n",
      "Epoch 11/50\n",
      "15/15 [==============================] - 0s 689us/step - loss: 0.6317 - accuracy: 0.8067\n",
      "Epoch 12/50\n",
      "15/15 [==============================] - 0s 658us/step - loss: 0.6102 - accuracy: 0.8067\n",
      "Epoch 13/50\n",
      "15/15 [==============================] - 0s 635us/step - loss: 0.5879 - accuracy: 0.8067\n",
      "Epoch 14/50\n",
      "15/15 [==============================] - 0s 708us/step - loss: 0.5682 - accuracy: 0.8133\n",
      "Epoch 15/50\n",
      "15/15 [==============================] - 0s 657us/step - loss: 0.5499 - accuracy: 0.8133\n",
      "Epoch 16/50\n",
      "15/15 [==============================] - 0s 696us/step - loss: 0.5325 - accuracy: 0.8200\n",
      "Epoch 17/50\n",
      "15/15 [==============================] - 0s 632us/step - loss: 0.5167 - accuracy: 0.8200\n",
      "Epoch 18/50\n",
      "15/15 [==============================] - 0s 656us/step - loss: 0.5024 - accuracy: 0.8200\n",
      "Epoch 19/50\n",
      "15/15 [==============================] - 0s 574us/step - loss: 0.4886 - accuracy: 0.8200\n",
      "Epoch 20/50\n",
      "15/15 [==============================] - 0s 637us/step - loss: 0.4765 - accuracy: 0.8200\n",
      "Epoch 21/50\n",
      "15/15 [==============================] - 0s 606us/step - loss: 0.4650 - accuracy: 0.8267\n",
      "Epoch 22/50\n",
      "15/15 [==============================] - 0s 795us/step - loss: 0.4547 - accuracy: 0.8267\n",
      "Epoch 23/50\n",
      "15/15 [==============================] - 0s 694us/step - loss: 0.4450 - accuracy: 0.8333\n",
      "Epoch 24/50\n",
      "15/15 [==============================] - 0s 676us/step - loss: 0.4369 - accuracy: 0.8333\n",
      "Epoch 25/50\n",
      "15/15 [==============================] - 0s 624us/step - loss: 0.4282 - accuracy: 0.8333\n",
      "Epoch 26/50\n",
      "15/15 [==============================] - 0s 602us/step - loss: 0.4209 - accuracy: 0.8400\n",
      "Epoch 27/50\n",
      "15/15 [==============================] - 0s 618us/step - loss: 0.4141 - accuracy: 0.8467\n",
      "Epoch 28/50\n",
      "15/15 [==============================] - 0s 628us/step - loss: 0.4077 - accuracy: 0.8467\n",
      "Epoch 29/50\n",
      "15/15 [==============================] - 0s 641us/step - loss: 0.4013 - accuracy: 0.8467\n",
      "Epoch 30/50\n",
      "15/15 [==============================] - 0s 623us/step - loss: 0.3953 - accuracy: 0.8467\n",
      "Epoch 31/50\n",
      "15/15 [==============================] - 0s 640us/step - loss: 0.3901 - accuracy: 0.8467\n",
      "Epoch 32/50\n",
      "15/15 [==============================] - 0s 656us/step - loss: 0.3850 - accuracy: 0.8467\n",
      "Epoch 33/50\n",
      "15/15 [==============================] - 0s 744us/step - loss: 0.3799 - accuracy: 0.8467\n",
      "Epoch 34/50\n",
      "15/15 [==============================] - 0s 631us/step - loss: 0.3749 - accuracy: 0.8467\n",
      "Epoch 35/50\n",
      "15/15 [==============================] - 0s 640us/step - loss: 0.3712 - accuracy: 0.8467\n",
      "Epoch 36/50\n",
      "15/15 [==============================] - 0s 688us/step - loss: 0.3658 - accuracy: 0.8467\n",
      "Epoch 37/50\n",
      "15/15 [==============================] - 0s 709us/step - loss: 0.3620 - accuracy: 0.8467\n",
      "Epoch 38/50\n",
      "15/15 [==============================] - 0s 616us/step - loss: 0.3579 - accuracy: 0.8467\n",
      "Epoch 39/50\n",
      "15/15 [==============================] - 0s 663us/step - loss: 0.3539 - accuracy: 0.8467\n",
      "Epoch 40/50\n",
      "15/15 [==============================] - 0s 618us/step - loss: 0.3502 - accuracy: 0.8467\n",
      "Epoch 41/50\n",
      "15/15 [==============================] - 0s 642us/step - loss: 0.3464 - accuracy: 0.8467\n",
      "Epoch 42/50\n",
      "15/15 [==============================] - 0s 656us/step - loss: 0.3426 - accuracy: 0.8467\n",
      "Epoch 43/50\n",
      "15/15 [==============================] - 0s 570us/step - loss: 0.3398 - accuracy: 0.8467\n",
      "Epoch 44/50\n",
      "15/15 [==============================] - 0s 625us/step - loss: 0.3365 - accuracy: 0.8467\n",
      "Epoch 45/50\n",
      "15/15 [==============================] - 0s 700us/step - loss: 0.3326 - accuracy: 0.8467\n",
      "Epoch 46/50\n",
      "15/15 [==============================] - 0s 694us/step - loss: 0.3294 - accuracy: 0.8600\n",
      "Epoch 47/50\n",
      "15/15 [==============================] - 0s 606us/step - loss: 0.3261 - accuracy: 0.8600\n",
      "Epoch 48/50\n",
      "15/15 [==============================] - 0s 611us/step - loss: 0.3236 - accuracy: 0.8600\n",
      "Epoch 49/50\n",
      "15/15 [==============================] - 0s 605us/step - loss: 0.3200 - accuracy: 0.8600\n",
      "Epoch 50/50\n",
      "15/15 [==============================] - 0s 626us/step - loss: 0.3171 - accuracy: 0.8667\n"
     ]
    },
    {
     "data": {
      "text/plain": [
       "<keras.callbacks.History at 0x7f4b11f71d90>"
      ]
     },
     "execution_count": 7,
     "metadata": {},
     "output_type": "execute_result"
    }
   ],
   "source": [
    "model.compile(loss='categorical_crossentropy', optimizer='adam', metrics=['accuracy'])\n",
    "model.fit(X_scaled, y, epochs=50, batch_size=10)"
   ]
  },
  {
   "cell_type": "code",
   "execution_count": null,
   "metadata": {},
   "outputs": [
    {
     "name": "stdout",
     "output_type": "stream",
     "text": [
      "Requirement already satisfied: joblib in /usr/local/lib/python3.10/dist-packages (1.3.1)\n"
     ]
    },
    {
     "data": {
      "text/plain": [
       "['encoder.pkl']"
      ]
     },
     "metadata": {},
     "output_type": "display_data"
    }
   ],
   "source": [
    "!pip install joblib\n",
    "\n",
    "from tensorflow.keras.models import load_model\n",
    "import joblib\n",
    "\n",
    "# Saving the Keras model\n",
    "model.save('iris_nn_model.h5')  # creates a HDF5 file 'iris_nn_model.h5'\n",
    "\n",
    "# Saving the scaler and encoder\n",
    "joblib.dump(scaler, 'scaler.pkl')\n",
    "joblib.dump(encoder, 'encoder.pkl')"
   ]
  },
  {
   "attachments": {},
   "cell_type": "markdown",
   "metadata": {},
   "source": []
  }
 ],
 "metadata": {
  "kernelspec": {
   "display_name": "tensorflow_cpu",
   "language": "python",
   "name": "python3"
  },
  "language_info": {
   "codemirror_mode": {
    "name": "ipython",
    "version": 3
   },
   "file_extension": ".py",
   "mimetype": "text/x-python",
   "name": "python",
   "nbconvert_exporter": "python",
   "pygments_lexer": "ipython3",
   "version": "3.11.3"
  },
  "orig_nbformat": 4
 },
 "nbformat": 4,
 "nbformat_minor": 2
}
